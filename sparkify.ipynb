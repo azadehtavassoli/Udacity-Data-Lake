{
 "cells": [
  {
   "cell_type": "markdown",
   "metadata": {
    "editable": true,
    "execution": {
     "iopub.execute_input": "2022-09-16T20:01:16.715474Z",
     "iopub.status.busy": "2022-09-16T20:01:16.715150Z",
     "iopub.status.idle": "2022-09-16T20:01:48.328970Z",
     "shell.execute_reply": "2022-09-16T20:01:48.328082Z",
     "shell.execute_reply.started": "2022-09-16T20:01:16.715444Z"
    },
    "tags": []
   },
   "source": [
    "Loading the libraries"
   ]
  },
  {
   "cell_type": "code",
   "execution_count": 1,
   "metadata": {
    "editable": true,
    "execution": {
     "iopub.execute_input": "2022-09-16T20:01:16.715474Z",
     "iopub.status.busy": "2022-09-16T20:01:16.715150Z",
     "iopub.status.idle": "2022-09-16T20:01:48.328970Z",
     "shell.execute_reply": "2022-09-16T20:01:48.328082Z",
     "shell.execute_reply.started": "2022-09-16T20:01:16.715444Z"
    },
    "tags": []
   },
   "outputs": [],
   "source": [
    "import configparser\n",
    "from datetime import datetime\n",
    "import os\n",
    "from pyspark.sql import SparkSession\n",
    "from pyspark.sql.functions import udf, col\n",
    "from pyspark.sql.functions import year, month, dayofmonth, hour, weekofyear, date_format, dayofweek, monotonically_increasing_id"
   ]
  },
  {
   "cell_type": "markdown",
   "metadata": {
    "editable": true
   },
   "source": [
    "Function to create session "
   ]
  },
  {
   "cell_type": "code",
   "execution_count": 2,
   "metadata": {
    "editable": true,
    "execution": {
     "iopub.execute_input": "2022-09-16T20:09:53.626263Z",
     "iopub.status.busy": "2022-09-16T20:09:53.625923Z",
     "iopub.status.idle": "2022-09-16T20:09:53.951523Z",
     "shell.execute_reply": "2022-09-16T20:09:53.950638Z",
     "shell.execute_reply.started": "2022-09-16T20:09:53.626233Z"
    }
   },
   "outputs": [
    {
     "data": {
      "application/vnd.jupyter.widget-view+json": {
       "model_id": "c5c69aa1a5a0410dbd9bd08831e0e9b7",
       "version_major": 2,
       "version_minor": 0
      },
      "text/plain": [
       "VBox()"
      ]
     },
     "metadata": {},
     "output_type": "display_data"
    },
    {
     "data": {
      "application/vnd.jupyter.widget-view+json": {
       "model_id": "",
       "version_major": 2,
       "version_minor": 0
      },
      "text/plain": [
       "FloatProgress(value=0.0, bar_style='info', description='Progress:', layout=Layout(height='25px', width='50%'),…"
      ]
     },
     "metadata": {},
     "output_type": "display_data"
    }
   ],
   "source": [
    "def create_spark_session():\n",
    "    spark = SparkSession \\\n",
    "        .builder \\\n",
    "        .config(\"spark.jars.packages\", \"org.apache.hadoop:hadoop-aws:2.7.0\") \\\n",
    "        .getOrCreate()\n",
    "    return spark"
   ]
  },
  {
   "cell_type": "code",
   "execution_count": 3,
   "metadata": {
    "editable": true,
    "execution": {
     "iopub.execute_input": "2022-09-16T20:09:56.903200Z",
     "iopub.status.busy": "2022-09-16T20:09:56.902848Z",
     "iopub.status.idle": "2022-09-16T20:09:57.245835Z",
     "shell.execute_reply": "2022-09-16T20:09:57.244739Z",
     "shell.execute_reply.started": "2022-09-16T20:09:56.903169Z"
    }
   },
   "outputs": [
    {
     "data": {
      "application/vnd.jupyter.widget-view+json": {
       "model_id": "5053c001701842539a55401896b57408",
       "version_major": 2,
       "version_minor": 0
      },
      "text/plain": [
       "VBox()"
      ]
     },
     "metadata": {},
     "output_type": "display_data"
    },
    {
     "data": {
      "application/vnd.jupyter.widget-view+json": {
       "model_id": "",
       "version_major": 2,
       "version_minor": 0
      },
      "text/plain": [
       "FloatProgress(value=0.0, bar_style='info', description='Progress:', layout=Layout(height='25px', width='50%'),…"
      ]
     },
     "metadata": {},
     "output_type": "display_data"
    }
   ],
   "source": [
    "def process_song_data(spark, input_data, output_data):\n",
    "    # get filepath to song data file\n",
    "    song_data =os.path.join(input_data,\"song_data/*/*/*/*.json\")\n",
    "    \n",
    "    # read song data file\n",
    "    df =  spark.read.json(song_data)\n",
    "    print('\\t Read JSON finished...\\n')\n",
    "    # extract columns to create songs table\n",
    "    songs_table = df.select('song_id', 'title', 'artist_id',\n",
    "                            'year', 'duration') \\\n",
    "                    .dropDuplicates()\n",
    "    songs_table.createOrReplaceTempView('songs')\n",
    "    \n",
    "    \n",
    "    # write songs table to parquet files partitioned by year and artist\n",
    "    \n",
    "    songs_table.write.mode(\"overwrite\").partitionBy(\"year\", \"artist_id\").parquet(output_data + \"songs\")\n",
    "    \n",
    "    # extract columns to create artists table\n",
    "    artists_fields = [\"artist_id\", \"artist_name as name\",\"artist_location as location\",\"artist_latitude as latitude\",\n",
    "                      \"artist_longitude as longitude\"]\n",
    "    artists_table = df.selectExpr(artists_fields).dropDuplicates()\n",
    "    \n",
    "    # write artists table to parquet files\n",
    "    print('\\t start writing the parquet file\\n')\n",
    "    artists_table.write.parquet(os.path.join(output_data,'artists/artists.parquet'), 'overwrite')"
   ]
  },
  {
   "cell_type": "code",
   "execution_count": 9,
   "metadata": {
    "editable": true,
    "execution": {
     "iopub.execute_input": "2022-09-16T20:36:53.714624Z",
     "iopub.status.busy": "2022-09-16T20:36:53.714229Z",
     "iopub.status.idle": "2022-09-16T20:36:54.050112Z",
     "shell.execute_reply": "2022-09-16T20:36:54.045411Z",
     "shell.execute_reply.started": "2022-09-16T20:36:53.714591Z"
    },
    "tags": []
   },
   "outputs": [
    {
     "data": {
      "application/vnd.jupyter.widget-view+json": {
       "model_id": "c2dae1b6ee3b4760822fbfc6d1f1110a",
       "version_major": 2,
       "version_minor": 0
      },
      "text/plain": [
       "VBox()"
      ]
     },
     "metadata": {},
     "output_type": "display_data"
    },
    {
     "data": {
      "application/vnd.jupyter.widget-view+json": {
       "model_id": "",
       "version_major": 2,
       "version_minor": 0
      },
      "text/plain": [
       "FloatProgress(value=0.0, bar_style='info', description='Progress:', layout=Layout(height='25px', width='50%'),…"
      ]
     },
     "metadata": {},
     "output_type": "display_data"
    }
   ],
   "source": [
    "def process_log_data(spark, input_data, output_data):\n",
    "     # get filepath to log data file\n",
    "    log_data = os.path.join(input_data, 'log_data/*/*/*.json')\n",
    "\n",
    "    # read log data file\n",
    "    log_df =  spark.read.json(log_data)\n",
    "    \n",
    "    # filter by actions for song plays\n",
    "    log_df = log_df.filter(log_df.page == 'NextSong') \n",
    "\n",
    "    # extract columns for users table    \n",
    "    users_fields = [\"userId as user_id\", \"firstName as first_name\", \"lastName as last_name\", \"gender\", \"level\"]\n",
    "    users_table = log_df.selectExpr(users_fields).dropDuplicates()\n",
    "    \n",
    "    # write users table to parquet files\n",
    "    users_table.write.parquet(os.path.join(output_data, 'users.parquet'), 'overwrite')\n",
    "\n",
    "    # create timestamp column from original timestamp column\n",
    "    \n",
    "    get_timestamp = udf(lambda x: str(int(int(x)/1000)))\n",
    "    log_df = log_df.withColumn('timestamp', get_timestamp(log_df.ts))\n",
    "    \n",
    "    # create datetime column from original timestamp column\n",
    "             \n",
    "    get_datetime = udf(lambda x: str(datetime.fromtimestamp(int(x) / 1000)))\n",
    "    log_df= log_df.withColumn('start_time', get_datetime(log_df.ts))\n",
    "    \n",
    "    # extract columns to create time table\n",
    "    \n",
    "    log_df = log_df.withColumn(\"hour\", hour(\"start_time\")) \\\n",
    "        .withColumn(\"day\", dayofmonth(\"start_time\")) \\\n",
    "        .withColumn(\"week\", weekofyear(\"start_time\")) \\\n",
    "        .withColumn(\"weekday\", dayofweek(\"start_time\"))\\\n",
    "        .withColumn(\"month\", month(\"start_time\")) \\\n",
    "        .withColumn(\"year\", year(\"start_time\")) \n",
    "       \n",
    "    time_table = log_df.select(\"start_time\", \"hour\", \"day\", \"week\", \"weekday\", \"month\", \"year\")\n",
    "\n",
    "    \n",
    "    # write time table to parquet files partitioned by year and month\n",
    "    time_table.write.partitionBy('year', 'month') \\\n",
    "                    .parquet(os.path.join(output_data,\n",
    "                                          'time/time.parquet'), 'overwrite')\n",
    "\n",
    "\n",
    "    # read in song data to use for songplays table  \n",
    "    song_df = spark.read.parquet(os.path.join(output_data, \"songs\"))\n",
    "\n",
    "\n",
    "    # extract columns from joined song and log datasets to create songplays table \n",
    "    log_df = log_df.alias('log_df')\n",
    "    song_df = song_df.alias('song_df')\n",
    "    joined_df = log_df.join(song_df, song_df.title == log_df.song)\n",
    "    songplays_table = joined_df.select(\n",
    "        col('log_df.start_time').alias('start_time'),\n",
    "        col('log_df.userId').alias('user_id'),\n",
    "        col('log_df.level').alias('level'),\n",
    "        col('song_df.song_id').alias('song_id'),\n",
    "        col('song_df.artist_id').alias('artist_id'),\n",
    "        col('log_df.sessionId').alias('session_id'),\n",
    "        col('log_df.location').alias('location'), \n",
    "        col('log_df.userAgent').alias('user_agent'))\\\n",
    "        .withColumn(\"year\", date_format(col(\"start_time\"), \"yyyy\")) \\\n",
    "        .withColumn(\"month\", date_format(col(\"start_time\"), \"MM\")) \\\n",
    "        .withColumn('songplay_id', monotonically_increasing_id())\n",
    "\n",
    "    # write songplays table to parquet files partitioned by year and month\n",
    "    time_table = time_table.alias('timetable')\n",
    "\n",
    "    songplays_table.write.partitionBy('year', 'month').parquet(os.path.join(output_data,\n",
    "                                 'songplays/songplays.parquet'),\n",
    "                                 'overwrite')"
   ]
  },
  {
   "cell_type": "code",
   "execution_count": 5,
   "metadata": {
    "editable": true,
    "execution": {
     "iopub.execute_input": "2022-09-16T20:11:35.311233Z",
     "iopub.status.busy": "2022-09-16T20:11:35.310887Z",
     "iopub.status.idle": "2022-09-16T20:11:36.509941Z",
     "shell.execute_reply": "2022-09-16T20:11:36.508857Z",
     "shell.execute_reply.started": "2022-09-16T20:11:35.311203Z"
    },
    "tags": []
   },
   "outputs": [
    {
     "data": {
      "application/vnd.jupyter.widget-view+json": {
       "model_id": "d6571b4ca7e140c890364c0d106db69e",
       "version_major": 2,
       "version_minor": 0
      },
      "text/plain": [
       "VBox()"
      ]
     },
     "metadata": {},
     "output_type": "display_data"
    },
    {
     "data": {
      "application/vnd.jupyter.widget-view+json": {
       "model_id": "",
       "version_major": 2,
       "version_minor": 0
      },
      "text/plain": [
       "FloatProgress(value=0.0, bar_style='info', description='Progress:', layout=Layout(height='25px', width='50%'),…"
      ]
     },
     "metadata": {},
     "output_type": "display_data"
    }
   ],
   "source": [
    "spark = create_spark_session()\n",
    "input_data = \"s3a://udacity-dend/\"\n",
    "output_data = \"s3://aws-emr-resources-214852037575-us-east-1/notebooks/\""
   ]
  },
  {
   "cell_type": "code",
   "execution_count": null,
   "metadata": {
    "editable": true,
    "tags": []
   },
   "outputs": [],
   "source": [
    "process_song_data(spark, input_data, output_data)"
   ]
  },
  {
   "cell_type": "code",
   "execution_count": 10,
   "metadata": {
    "editable": true,
    "execution": {
     "iopub.execute_input": "2022-09-16T20:36:57.836331Z",
     "iopub.status.busy": "2022-09-16T20:36:57.836000Z",
     "iopub.status.idle": "2022-09-16T20:49:19.785074Z",
     "shell.execute_reply": "2022-09-16T20:49:19.784028Z",
     "shell.execute_reply.started": "2022-09-16T20:36:57.836302Z"
    },
    "tags": []
   },
   "outputs": [
    {
     "data": {
      "application/vnd.jupyter.widget-view+json": {
       "model_id": "a951ec1dbde145449d1110404a115127",
       "version_major": 2,
       "version_minor": 0
      },
      "text/plain": [
       "VBox()"
      ]
     },
     "metadata": {},
     "output_type": "display_data"
    },
    {
     "data": {
      "application/vnd.jupyter.widget-view+json": {
       "model_id": "",
       "version_major": 2,
       "version_minor": 0
      },
      "text/plain": [
       "FloatProgress(value=0.0, bar_style='info', description='Progress:', layout=Layout(height='25px', width='50%'),…"
      ]
     },
     "metadata": {},
     "output_type": "display_data"
    },
    {
     "name": "stdout",
     "output_type": "stream",
     "text": [
      "Start processing log data..."
     ]
    }
   ],
   "source": [
    "process_log_data(spark, input_data, output_data)"
   ]
  },
  {
   "cell_type": "code",
   "execution_count": null,
   "metadata": {
    "editable": true
   },
   "outputs": [],
   "source": []
  }
 ],
 "metadata": {
  "kernelspec": {
   "display_name": "Python 3",
   "language": "python",
   "name": "python3"
  },
  "language_info": {
   "codemirror_mode": {
    "name": "ipython",
    "version": 3
   },
   "file_extension": ".py",
   "mimetype": "text/x-python",
   "name": "python",
   "nbconvert_exporter": "python",
   "pygments_lexer": "ipython3",
   "version": "3.6.3"
  }
 },
 "nbformat": 4,
 "nbformat_minor": 5
}
